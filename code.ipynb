{
 "cells": [
  {
   "cell_type": "code",
   "execution_count": 2,
   "metadata": {},
   "outputs": [],
   "source": [
    "import tensorflow as tf\n",
    "import tensorflow_io\n",
    "from tensorflow import keras\n",
    "import tensorboard\n",
    "import pandas as pd\n",
    "import nltk\n",
    "import re\n",
    "import numpy as np\n",
    "from nltk.stem import LancasterStemmer, WordNetLemmatizer\n",
    "from nltk.corpus import stopwords\n",
    "from sklearn.feature_extraction.text import TfidfVectorizer \n",
    "import gensim\n",
    "import spacy\n",
    "import datetime\n",
    "from custom_layers import *"
   ]
  },
  {
   "cell_type": "code",
   "execution_count": 18,
   "metadata": {},
   "outputs": [],
   "source": [
    "data_dir = \"../../Datasets/disaster_tweets\""
   ]
  },
  {
   "cell_type": "code",
   "execution_count": 19,
   "metadata": {},
   "outputs": [],
   "source": [
    "def load_data(preproc = 1):\n",
    "    if preproc:\n",
    "        train_data = pd.read_parquet(f\"{data_dir}/train_preprocessed.parquet\")\n",
    "        test_data = pd.read_parquet(f\"{data_dir}/test_preprocessed.parquet\")\n",
    "    else:\n",
    "        train_data = [pd.read_csv(f\"{data_dir}/train.csv\", index_col = 0), pd.read_csv(f\"{data_dir}/train2.csv\")[[\"keyword\",\"location\",\"text\",\"choose_one\"]]]\n",
    "        test_data = pd.read_csv(f\"{data_dir}/test.csv\", index_col = 0)\n",
    "    return train_data, test_data\n",
    "\n",
    "def preprocess_and_save():\n",
    "    train_data, test_data = load_data(preproc = 0)\n",
    "\n",
    "    train_data[1].rename(columns = {\"choose_one\": \"target\"}, inplace = True)\n",
    "    train_data[1][\"target\"] = (train_data[1][\"target\"] == \"Relevant\").astype(\"int\")\n",
    "\n",
    "    train_data = pd.concat([train_data[0], train_data[1]], axis = 0)\n",
    "\n",
    "    train_data.fillna(\"0\", inplace = True)\n",
    "    test_data.fillna(\"0\", inplace = True)\n",
    "\n",
    "    train_data.to_parquet(\"../../Datasets/disaster_tweets/train_preprocessed.parquet\")\n",
    "    test_data.to_parquet(\"../../Datasets/disaster_tweets/test_preprocessed.parquet\")\n",
    "\n",
    "    return train_data, test_data "
   ]
  },
  {
   "cell_type": "code",
   "execution_count": 20,
   "metadata": {},
   "outputs": [],
   "source": [
    "# train_data, test_data = preprocess_and_save()\n",
    "# train_data, test_data = load_data(preproc = 0)\n",
    "train_data, test_data = load_data(preproc = 1)"
   ]
  },
  {
   "cell_type": "code",
   "execution_count": 21,
   "metadata": {},
   "outputs": [],
   "source": [
    "train_data_tf = tf.data.Dataset.from_tensor_slices((train_data[\"keyword\"] + train_data[\"location\"] + train_data[\"text\"], train_data[\"target\"])).shuffle(42).batch(32)\n",
    "test_data_tf = tf.data.Dataset.from_tensor_slices((test_data[\"keyword\"] + test_data[\"location\"] + test_data[\"text\"])).shuffle(42).batch(32)\n",
    "\n",
    "text_vect = keras.layers.TextVectorization(\n",
    "    max_tokens = 20_000,\n",
    "    output_mode = \"int\",\n",
    "    output_sequence_length = 165\n",
    ")\n",
    "text_vect.adapt(train_data_tf.map(lambda txt, trgt: txt))\n",
    "\n",
    "train_data_tf_vec = train_data_tf.map(lambda txt, trgt: (text_vect(txt), trgt), num_parallel_calls=tf.data.AUTOTUNE)\n",
    "\n",
    "test_data_tf_vec = test_data_tf.map(lambda txt: text_vect(txt), num_parallel_calls=tf.data.AUTOTUNE)"
   ]
  },
  {
   "cell_type": "code",
   "execution_count": 6,
   "metadata": {},
   "outputs": [],
   "source": [
    "# model = keras.Sequential([\n",
    "#     keras.layers.Input(shape = (None,165), name = \"Input\"),\n",
    "#     keras.layers.Dense(150, activation = keras.activations.relu, name = \"Dense_200_1\"),\n",
    "#     # keras.layers.Dropout(rate = 0.4, name = \"Dropout_1\"),\n",
    "#     keras.layers.Dense(80, activation = keras.activations.relu, name = \"Dense_200_2\"),\n",
    "#     # keras.layers.Dropout(rate = 0.4, name = \"Dropout_2\"),\n",
    "#     keras.layers.Dense(1, activation = keras.activations.sigmoid, name = \"Output\")\n",
    "# ])\n",
    "# model.compile(\n",
    "#     optimizer = keras.optimizers.SGD(learning_rate = 0.001, momentum = 0.8),\n",
    "#     loss = keras.losses.BinaryCrossentropy(),\n",
    "#     metrics=[keras.metrics.Precision(), keras.metrics.AUC()])\n",
    "\n",
    "input = keras.layers.Input(shape = (None,), name = \"Input\", dtype = \"int64\")\n",
    "positional = PositionalEmbedding(165, 20_000, 256)(input)\n",
    "encoder = TransformerEncoder(256, 32, 8)(positional)\n",
    "pooling = keras.layers.GlobalMaxPooling1D()(encoder)\n",
    "dropout = keras.layers.Dropout(0.5)(pooling)\n",
    "output = keras.layers.Dense(1, activation = \"sigmoid\")(dropout)\n",
    "\n",
    "model = keras.Model(inputs = input, outputs = output)\n",
    "\n",
    "model.compile(\n",
    "    optimizer = keras.optimizers.Adam(learning_rate = 1e-5, beta_1 = 0.9, beta_2 = 0.98, epsilon = 1e-9),\n",
    "    loss = keras.losses.BinaryCrossentropy(),\n",
    "    metrics=[keras.metrics.Precision(), keras.metrics.AUC()]\n",
    ")"
   ]
  },
  {
   "cell_type": "code",
   "execution_count": 7,
   "metadata": {},
   "outputs": [],
   "source": [
    "val_size = int(0.2 * len(train_data_tf_vec))\n",
    "validation = train_data_tf_vec.take(val_size)\n",
    "train = train_data_tf_vec.skip(val_size)"
   ]
  },
  {
   "cell_type": "code",
   "execution_count": null,
   "metadata": {},
   "outputs": [],
   "source": [
    "log_dir = \"logs/fit/\" + datetime.datetime.now().strftime(\"%Y%m%d-%H%M%S\")\n",
    "tensorboard_callback = keras.callbacks.TensorBoard(log_dir=log_dir, histogram_freq=1)\n",
    "checkpoint_callback = keras.callbacks.ModelCheckpoint(\"tweets_classifier.tf\", save_best_only=True)\n",
    "early_stopping_callback = keras.callbacks.EarlyStopping(patience = 4)\n",
    "history = model.fit(train, epochs = 120, validation_data = validation, callbacks = [tensorboard_callback, checkpoint_callback, early_stopping_callback])"
   ]
  },
  {
   "cell_type": "code",
   "execution_count": 54,
   "metadata": {},
   "outputs": [
    {
     "data": {
      "text/plain": [
       "<keras.src.engine.functional.Functional at 0x23c5b5c5d10>"
      ]
     },
     "execution_count": 54,
     "metadata": {},
     "output_type": "execute_result"
    }
   ],
   "source": [
    "keras.models.load_model(\"tweets_classifier.tf\")"
   ]
  }
 ],
 "metadata": {
  "kernelspec": {
   "display_name": "machine",
   "language": "python",
   "name": "python3"
  },
  "language_info": {
   "codemirror_mode": {
    "name": "ipython",
    "version": 3
   },
   "file_extension": ".py",
   "mimetype": "text/x-python",
   "name": "python",
   "nbconvert_exporter": "python",
   "pygments_lexer": "ipython3",
   "version": "3.11.3"
  }
 },
 "nbformat": 4,
 "nbformat_minor": 2
}
